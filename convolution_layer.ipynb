{
 "cells": [
  {
   "cell_type": "code",
   "execution_count": 16,
   "metadata": {},
   "outputs": [
    {
     "name": "stdout",
     "output_type": "stream",
     "text": [
      "[[34. 46.]\n",
      " [46. 58.]]\n"
     ]
    }
   ],
   "source": [
    "import numpy as np\n",
    "\n",
    "input_neuron = np.array([[1, 2, 3, 4],\n",
    "                         [2, 3, 4, 5],\n",
    "                         [3, 4, 5, 6],\n",
    "                         [4, 5, 6, 7]])\n",
    "\n",
    "kernel = np.array([[1, 2, 3],\n",
    "                   [1, 0, -1],\n",
    "                   [3, 2, 1]])\n",
    "\n",
    "output_height = input_neuron.shape[0] - kernel.shape[0] + 1\n",
    "output_width = input_neuron.shape[1] - kernel.shape[1] + 1\n",
    "\n",
    "output = np.zeros((output_height, output_width))\n",
    "\n",
    "for i in range(output_height):\n",
    "    for j in range(output_width):\n",
    "        sub_matrix = input_neuron[i:i+kernel.shape[0], j:j+kernel.shape[1]]\n",
    "        output[i, j] = np.sum(sub_matrix * kernel)\n",
    "\n",
    "print(output)\n"
   ]
  },
  {
   "cell_type": "code",
   "execution_count": 20,
   "metadata": {},
   "outputs": [
    {
     "data": {
      "text/plain": [
       "array([[2., 4.],\n",
       "       [4., 6.]])"
      ]
     },
     "execution_count": 20,
     "metadata": {},
     "output_type": "execute_result"
    }
   ],
   "source": [
    "import numpy as np\n",
    "\n",
    "input_neuron = np.array([[1, 2, 3, 4],\n",
    "                         [2, 3, 4, 5],\n",
    "                         [3, 4, 5, 6],\n",
    "                         [4, 5, 6, 7]])\n",
    "\n",
    "pooling_size = 2\n",
    "\n",
    "height = input_neuron.shape[0] // pooling_size\n",
    "width = input_neuron.shape[1] // pooling_size\n",
    "\n",
    "output = np.zeros((height, width))\n",
    "\n",
    "for i in range(height):\n",
    "    for j in range(width):\n",
    "        sub_matrix = input_neuron[i*pooling_size:(i+1)*pooling_size, j*pooling_size:(j+1)*pooling_size]\n",
    "        output[i, j] = np.mean(sub_matrix)\n",
    "\n",
    "\n",
    "output\n"
   ]
  }
 ],
 "metadata": {
  "kernelspec": {
   "display_name": "Python 3.10.4 64-bit",
   "language": "python",
   "name": "python3"
  },
  "language_info": {
   "codemirror_mode": {
    "name": "ipython",
    "version": 3
   },
   "file_extension": ".py",
   "mimetype": "text/x-python",
   "name": "python",
   "nbconvert_exporter": "python",
   "pygments_lexer": "ipython3",
   "version": "3.10.4"
  },
  "orig_nbformat": 4,
  "vscode": {
   "interpreter": {
    "hash": "d1d2a9ecc905ef171fa753a7e952cc3d53b061ba87f364110eb501a5ad998ef5"
   }
  }
 },
 "nbformat": 4,
 "nbformat_minor": 2
}
